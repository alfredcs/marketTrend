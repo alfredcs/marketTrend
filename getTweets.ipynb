{
 "cells": [
  {
   "cell_type": "code",
   "execution_count": 6,
   "id": "composite-tooth",
   "metadata": {},
   "outputs": [],
   "source": [
    "import twint\n",
    "import json\n",
    "import nest_asyncio\n",
    "nest_asyncio.apply()\n",
    "#__import__('IPython').embed()"
   ]
  },
  {
   "cell_type": "code",
   "execution_count": 15,
   "id": "continued-guard",
   "metadata": {},
   "outputs": [],
   "source": [
    "c = twint.Config()\n",
    "c.Search = \"neo4j OR \\\"graph database\\\" OR \\\"graph databases\\\" OR graphdb OR graphconnect OR @neoquestions OR @Neo4jDE OR @Neo4jFr OR neotechnology\"\n",
    "c.Store_json = True\n",
    "#c.Custom[\"user\"] = [\"\", \"tweet\", \"user_id\", \"username\", \"hashtags\", \"mentions\"]\n",
    "c.User_full = True\n",
    "c.Output = \"tweets.json\"\n",
    "c.Since = \"2021-4-20\"\n",
    "c.Hide_output = True"
   ]
  },
  {
   "cell_type": "code",
   "execution_count": 16,
   "id": "proprietary-skill",
   "metadata": {},
   "outputs": [
    {
     "name": "stdout",
     "output_type": "stream",
     "text": [
      "[!] No more data! Scraping will stop now.\n",
      "found 0 deleted tweets in this search.\n",
      "[!] No more data! Scraping will stop now.\n",
      "found 0 deleted tweets in this search.\n"
     ]
    }
   ],
   "source": [
    "twint.run.Search(c)"
   ]
  },
  {
   "cell_type": "code",
   "execution_count": null,
   "id": "monetary-recruitment",
   "metadata": {},
   "outputs": [],
   "source": []
  }
 ],
 "metadata": {
  "kernelspec": {
   "display_name": "Python 3",
   "language": "python",
   "name": "python3"
  },
  "language_info": {
   "codemirror_mode": {
    "name": "ipython",
    "version": 3
   },
   "file_extension": ".py",
   "mimetype": "text/x-python",
   "name": "python",
   "nbconvert_exporter": "python",
   "pygments_lexer": "ipython3",
   "version": "3.8.8"
  }
 },
 "nbformat": 4,
 "nbformat_minor": 5
}
